{
 "cells": [
  {
   "cell_type": "code",
   "execution_count": 1,
   "id": "1cc31746-b8eb-48b4-ad2d-01ff8396b031",
   "metadata": {},
   "outputs": [],
   "source": [
    "import numpy as np\n",
    "from sklearn.metrics import mean_absolute_error, accuracy_score\n"
   ]
  },
  {
   "cell_type": "code",
   "execution_count": 2,
   "id": "914d13ad-2a28-423a-9486-e9d65fafb5cc",
   "metadata": {},
   "outputs": [],
   "source": [
    "# Sample data for demonstration\n",
    "y_test = np.array([1, 2, 3, 4, 5])  # Replace with your actual data\n",
    "y_predict = np.array([1.1, 2.0, 2.9, 4.1, 5.0])  # Replace with your actual predictions\n"
   ]
  },
  {
   "cell_type": "code",
   "execution_count": 3,
   "id": "f5af21e6-326b-486e-8ec3-f8ce2847d853",
   "metadata": {},
   "outputs": [
    {
     "name": "stdout",
     "output_type": "stream",
     "text": [
      "Mean Absolute Error (MAE): 0.05999999999999996\n"
     ]
    }
   ],
   "source": [
    "mae = mean_absolute_error(y_test, y_predict)\n",
    "print(f\"Mean Absolute Error (MAE): {mae}\")\n"
   ]
  },
  {
   "cell_type": "code",
   "execution_count": 4,
   "id": "dbd178c9-0d72-4f9f-94a9-86378ca02c89",
   "metadata": {},
   "outputs": [],
   "source": [
    "y_predict_rounded = np.round(y_predict).astype(int)\n"
   ]
  },
  {
   "cell_type": "code",
   "execution_count": 5,
   "id": "f2b31e11-a06a-466f-ae33-edb1b4abb95a",
   "metadata": {},
   "outputs": [
    {
     "name": "stdout",
     "output_type": "stream",
     "text": [
      "Accuracy: 1.0\n"
     ]
    }
   ],
   "source": [
    "accuracy = accuracy_score(y_test, y_predict_rounded)\n",
    "print(f\"Accuracy: {accuracy}\")\n"
   ]
  },
  {
   "cell_type": "code",
   "execution_count": 6,
   "id": "62072d96-956b-4c86-ab5f-9fb2a76002eb",
   "metadata": {},
   "outputs": [
    {
     "name": "stdout",
     "output_type": "stream",
     "text": [
      "Mean Absolute Error (MAE): 0.05999999999999996\n",
      "Accuracy: 1.0\n"
     ]
    }
   ],
   "source": [
    "import numpy as np\n",
    "from sklearn.metrics import mean_absolute_error, accuracy_score\n",
    "\n",
    "# Sample data for demonstration, replace with your actual data\n",
    "y_test = np.array([1, 2, 3, 4, 5])  # Replace with your actual data\n",
    "y_predict = np.array([1.1, 2.0, 2.9, 4.1, 5.0])  # Replace with your actual predictions\n",
    "\n",
    "# Calculate Mean Absolute Error (MAE)\n",
    "mae = mean_absolute_error(y_test, y_predict)\n",
    "print(f\"Mean Absolute Error (MAE): {mae}\")\n",
    "\n",
    "# Convert predictions to integers for accuracy calculation (if necessary)\n",
    "y_predict_rounded = np.round(y_predict).astype(int)\n",
    "\n",
    "# Calculate Accuracy\n",
    "accuracy = accuracy_score(y_test, y_predict_rounded)\n",
    "print(f\"Accuracy: {accuracy}\")\n"
   ]
  },
  {
   "cell_type": "code",
   "execution_count": 7,
   "id": "c55c40a0-9229-4f41-86e2-c2a1063f2c1b",
   "metadata": {},
   "outputs": [
    {
     "name": "stdout",
     "output_type": "stream",
     "text": [
      "Accuracy: 0.0\n",
      "Actual: 1, Predicted: 6\n",
      "Actual: 2, Predicted: 7\n",
      "Actual: 3, Predicted: 8\n",
      "Actual: 4, Predicted: 9\n",
      "Actual: 5, Predicted: 10\n"
     ]
    }
   ],
   "source": [
    "import numpy as np\n",
    "from sklearn.metrics import accuracy_score\n",
    "\n",
    "# Sample data for demonstration, replace with your actual data\n",
    "y_test = np.array([1, 2, 3, 4, 5])  # Replace with your actual data\n",
    "y_predict = np.array([6, 7, 8, 9, 10])  # Completely wrong predictions\n",
    "\n",
    "# Calculate Accuracy\n",
    "accuracy = accuracy_score(y_test, y_predict)\n",
    "print(f\"Accuracy: {accuracy}\")\n",
    "\n",
    "# Print a few samples to inspect\n",
    "for true, pred in zip(y_test, y_predict):\n",
    "    print(f\"Actual: {true}, Predicted: {pred}\")\n"
   ]
  },
  {
   "cell_type": "code",
   "execution_count": 8,
   "id": "cc6ce2ad-d209-4615-8e0d-ceded93baa95",
   "metadata": {},
   "outputs": [
    {
     "name": "stdout",
     "output_type": "stream",
     "text": [
      "Accuracy: 1.0\n",
      "Actual: 1, Predicted: 1\n",
      "Actual: 2, Predicted: 2\n",
      "Actual: 3, Predicted: 3\n",
      "Actual: 4, Predicted: 4\n",
      "Actual: 5, Predicted: 5\n"
     ]
    }
   ],
   "source": [
    "#For Accuracy 1.Perfect model\n",
    "import numpy as np\n",
    "from sklearn.metrics import accuracy_score\n",
    "\n",
    "# Sample data for demonstration, replace with your actual data\n",
    "y_test = np.array([1, 2, 3, 4, 5])  # Actual values\n",
    "y_predict = np.array([1, 2, 3, 4, 5])  # Perfect predictions\n",
    "\n",
    "# Calculate Accuracy\n",
    "accuracy = accuracy_score(y_test, y_predict)\n",
    "print(f\"Accuracy: {accuracy}\")\n",
    "\n",
    "# Print a few samples to inspect\n",
    "for true, pred in zip(y_test, y_predict):\n",
    "    print(f\"Actual: {true}, Predicted: {pred}\")"
   ]
  },
  {
   "cell_type": "code",
   "execution_count": null,
   "id": "a5d963f9-ec75-4320-9801-73512d7c57db",
   "metadata": {},
   "outputs": [],
   "source": []
  }
 ],
 "metadata": {
  "kernelspec": {
   "display_name": "Python 3 (ipykernel)",
   "language": "python",
   "name": "python3"
  },
  "language_info": {
   "codemirror_mode": {
    "name": "ipython",
    "version": 3
   },
   "file_extension": ".py",
   "mimetype": "text/x-python",
   "name": "python",
   "nbconvert_exporter": "python",
   "pygments_lexer": "ipython3",
   "version": "3.12.1"
  }
 },
 "nbformat": 4,
 "nbformat_minor": 5
}
