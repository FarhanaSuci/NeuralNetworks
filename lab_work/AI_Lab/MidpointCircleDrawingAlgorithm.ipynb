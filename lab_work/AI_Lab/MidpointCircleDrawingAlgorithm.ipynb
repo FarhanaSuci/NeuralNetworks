{
 "cells": [
  {
   "cell_type": "code",
   "execution_count": 10,
   "id": "d3a4eb41-cc83-4d5e-80b5-60e4fa456edb",
   "metadata": {},
   "outputs": [
    {
     "name": "stdout",
     "output_type": "stream",
     "text": [
      "(8, -1)(8, -1)(-2, 9)(-2, 9)\n",
      "(8, 0)(-12, 0)(8, -2)(-12, -2)\n",
      "(-1, 9)(-3, 9)(-1, -11)(-3, -11)\n",
      "(8, 1)(-12, 1)(8, -3)(-12, -3)\n",
      "(0, 9)(-4, 9)(0, -11)(-4, -11)\n",
      "(8, 2)(-12, 2)(8, -4)(-12, -4)\n",
      "(1, 9)(-5, 9)(1, -11)(-5, -11)\n",
      "(7, 3)(-11, 3)(7, -5)(-11, -5)\n",
      "(2, 8)(-6, 8)(2, -10)(-6, -10)\n",
      "(7, 4)(-11, 4)(7, -6)(-11, -6)\n",
      "(3, 8)(-7, 8)(3, -10)(-7, -10)\n",
      "(6, 5)(-10, 5)(6, -7)(-10, -7)\n",
      "(4, 7)(-8, 7)(4, -9)(-8, -9)\n",
      "(5, 6)(-9, 6)(5, -8)(-9, -8)\n"
     ]
    },
    {
     "data": {
      "image/png": "[encoded data removed]",
      "text/plain": [
       "<Figure size 640x480 with 1 Axes>"
      ]
     },
     "metadata": {},
     "output_type": "display_data"
    }
   ],
   "source": [
    "#B190305001\n",
    "import matplotlib.pyplot as B190305001\n",
    "def plot_circle(Xpoint, Ypoint, x, y):\n",
    "    \n",
    "    plt.plot(x + Xpoint, y + Ypoint, 'ro') \n",
    "    plt.plot(-x + Xpoint, y + Ypoint, 'ro')  \n",
    "    plt.plot(x + Xpoint, -y + Ypoint, 'ro') \n",
    "    plt.plot(-x + Xpoint, -y + Ypoint, 'ro')  \n",
    "    plt.plot(y + Xpoint, x + Ypoint, 'ro')  \n",
    "    plt.plot(-y + Xpoint, x + Ypoint, 'ro')  \n",
    "    plt.plot(y + Xpoint, -x + Ypoint, 'ro')  \n",
    "    plt.plot(-y + Xpoint, -x + Ypoint, 'ro')  \n",
    "\n",
    "def midPointCircleDrawingAlgorithm(Xpoint, Ypoint, r):\n",
    "    x = r\n",
    "    y = 0\n",
    "    print(\"(\", x + Xpoint, \", \", \n",
    "               y + Ypoint, \")\", \n",
    "               sep = \"\", end = \"\") \n",
    "    \n",
    "    plot_circle(Xpoint, Ypoint, x, y)\n",
    "\n",
    "    if (r > 0) :\n",
    "     \n",
    "        print(\"(\", x + Xpoint, \", \",\n",
    "                  -y + Ypoint, \")\", \n",
    "                  sep = \"\", end = \"\") \n",
    "        print(\"(\", y + Xpoint, \", \", \n",
    "                   x + Ypoint, \")\",\n",
    "                   sep = \"\", end = \"\") \n",
    "        print(\"(\", -y + Xpoint, \", \", \n",
    "                    x + Ypoint, \")\", sep = \"\") \n",
    "\n",
    "    P = 1 - r\n",
    "    while x > y:\n",
    "        y += 1\n",
    "        if P <= 0:\n",
    "            P = P + 2 * y + 1\n",
    "        else:\n",
    "            x -= 1\n",
    "            P = P + 2 * y - 2 * x + 1\n",
    "        if (x < y):\n",
    "            break\n",
    "            \n",
    "        print(\"(\", x + Xpoint, \", \", y + Ypoint,\n",
    "                            \")\", sep = \"\", end = \"\") \n",
    "        print(\"(\", -x + Xpoint, \", \", y + Ypoint, \n",
    "                             \")\", sep = \"\", end = \"\") \n",
    "        print(\"(\", x + Xpoint, \", \", -y + Ypoint,\n",
    "                             \")\", sep = \"\", end = \"\") \n",
    "        print(\"(\", -x + Xpoint, \", \", -y + Ypoint,\n",
    "                                        \")\", sep = \"\") \n",
    "        plot_circle_points(Xpoint, Ypoint, x, y)\n",
    "        \n",
    "        if x != y:\n",
    "         \n",
    "            print(\"(\", y + Xpoint, \", \", x + Ypoint, \n",
    "                                \")\", sep = \"\", end = \"\") \n",
    "            print(\"(\", -y + Xpoint, \", \", x + Ypoint,\n",
    "                                 \")\", sep = \"\", end = \"\") \n",
    "            print(\"(\", y + Xpoint, \", \", -x + Ypoint,\n",
    "                                 \")\", sep = \"\", end = \"\") \n",
    "            print(\"(\", -y + Xpoint, \", \", -x + Ypoint, \n",
    "                                            \")\", sep = \"\")\n",
    "\n",
    "    B190305001.axis('equal')\n",
    "    B190305001.grid()\n",
    "    B190305001.show()\n",
    "\n",
    "\n",
    "midPointCircleDrawingAlgorithm(-2, -1, 10)\n"
   ]
  },
  {
   "cell_type": "code",
   "execution_count": null,
   "id": "4420ec17-2fdd-467b-b169-4df30184b7d0",
   "metadata": {},
   "outputs": [],
   "source": []
  }
 ],
 "metadata": {
  "kernelspec": {
   "display_name": "Python 3 (ipykernel)",
   "language": "python",
   "name": "python3"
  },
  "language_info": {
   "codemirror_mode": {
    "name": "ipython",
    "version": 3
   },
   "file_extension": ".py",
   "mimetype": "text/x-python",
   "name": "python",
   "nbconvert_exporter": "python",
   "pygments_lexer": "ipython3",
   "version": "3.12.1"
  }
 },
 "nbformat": 4,
 "nbformat_minor": 5
}
