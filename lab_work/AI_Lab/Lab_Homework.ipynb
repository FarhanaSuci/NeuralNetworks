{
 "cells": [
  {
   "cell_type": "code",
   "execution_count": 1,
   "id": "d1a528c2-0723-455b-8c03-2a93273f493b",
   "metadata": {},
   "outputs": [
    {
     "name": "stdout",
     "output_type": "stream",
     "text": [
      "6.91714597031315\n"
     ]
    }
   ],
   "source": [
    "import random\n",
    "inputs=[1,2,3,2.5]\n",
    "weights=[]\n",
    "for i in range(len(inputs)):\n",
    "    weights.append(random.random())\n",
    "#print(weights)\n",
    "bias=random.randint(2,4)\n",
    "#print(bias)\n",
    "output_neuron=(inputs[0]*weights[0]+inputs[1]*weights[1]+inputs[2]*weights[2]+inputs[3]*weights[3]+bias)\n",
    "print(output_neuron)\n",
    "    "
   ]
  },
  {
   "cell_type": "code",
   "execution_count": 2,
   "id": "00a8e2cd-c37b-4343-a368-73ddedbb0472",
   "metadata": {},
   "outputs": [
    {
     "name": "stdout",
     "output_type": "stream",
     "text": [
      "First layer input weight is: \n",
      "[[0.9778837809633107, 0.4353559151055144, 0.531989425305127, 0.012837220732148213], [0.855714552619279, 0.5272485454235348, 0.4126880239157177, 0.5576234995961612], [0.006812635020031488, 0.7557397572384918, 0.5008018538203117, 0.3414491503231104]]\n",
      "Hidden layer neuron bias is: \n",
      "[3, 3, -3]\n",
      "Hidden layer is: \n",
      "[6.476656938920091, 7.542334464203905, 0.8743205867657267]\n",
      "Hidden layer neuron weight is: \n",
      "[0.6432531381238262, 0.828134149543615, 0.5006698340728145]\n",
      "Output neuron is: \n",
      "7.849940580701244\n"
     ]
    }
   ],
   "source": [
    "import random\n",
    "inputs=[1,2,3,2.5]\n",
    "weights=[]\n",
    "rows,cols=3,4\n",
    "for i in range(rows):\n",
    "    col=[]\n",
    "    for k in range(cols):\n",
    "      col.append(random.random())\n",
    "    weights.append(col)\n",
    "hidden_layer=3\n",
    "bias=[]\n",
    "for j in range(hidden_layer):\n",
    "    bias.append(random.randint(-5,5))\n",
    "print(\"First layer input weight is: \")\n",
    "print(weights)\n",
    "print(\"Hidden layer neuron bias is: \")\n",
    "print(bias)\n",
    "layer_outputs=[]\n",
    "for neuron_weights,neuron_bias in zip(weights,bias):\n",
    "    neuron_output=0\n",
    "    for each_input,each_weight in zip(inputs,neuron_weights):\n",
    "        neuron_output+=each_input*each_weight\n",
    "    neuron_output+=neuron_bias\n",
    "    layer_outputs.append(neuron_output)\n",
    "print(\"Hidden layer is: \")\n",
    "print(layer_outputs)\n",
    "weights2=[]\n",
    "for i in range(3):\n",
    "    weights2.append(random.random())\n",
    "print(\"Hidden layer neuron weight is: \")\n",
    "print(weights2)\n",
    "bias2=random.randint(-5,5)\n",
    "output_neuron=(layer_outputs[0]*weights2[0]+layer_outputs[1]*weights2[1]+layer_outputs[2]*weights2[2]+bias2)\n",
    "print(\"Output neuron is: \") \n",
    "print(output_neuron)"
   ]
  },
  {
   "cell_type": "code",
   "execution_count": 10,
   "id": "7842597c-b6a3-47d3-a0ed-050b0bb1e087",
   "metadata": {},
   "outputs": [
    {
     "name": "stdout",
     "output_type": "stream",
     "text": [
      "[[0.4559847450528365, 0.33246761615861553, 0.361412039356801, 0.6669349665966151], [0.2561281725043363, 0.45794677655498217, 0.7304463147663465, 0.1507076671686114], [0.09783266696018889, 0.09022129542257595, 0.18288800269756655, 0.4001156930042953]]\n",
      "[4, -1, -4]\n",
      "Hidden layer is: \n",
      "[ 7.87249351  2.74012984 -2.1727715 ]\n",
      "Hidden layer neuron weight is: \n",
      "[0.7784699052839278, 0.7941423129371213, 0.9639759306495534]\n",
      "Output neuron is : \n",
      "5.210052895413024\n"
     ]
    }
   ],
   "source": [
    "import random\n",
    "import numpy\n",
    "inputs=[1,2,3,2.5]\n",
    "weights=[]\n",
    "rows,cols=3,4\n",
    "for i in range(rows):\n",
    "    col=[]\n",
    "    for k in range(cols):\n",
    "      col.append(random.random())\n",
    "    weights.append(col)\n",
    "hidden_layer=3\n",
    "bias=[]\n",
    "for j in range(hidden_layer):\n",
    "    bias.append(random.randint(-5,5))\n",
    "print(weights)\n",
    "print(bias)\n",
    "layer_outputs=numpy.dot(inputs,numpy.array(weights).T)+bias\n",
    "print(\"Hidden layer is: \")\n",
    "print(layer_outputs)\n",
    "weights2=[]\n",
    "for i in range(3):\n",
    "    weights2.append(random.random())\n",
    "print(\"Hidden layer neuron weight is: \")\n",
    "print(weights2)\n",
    "bias2=random.randint(-5,5)\n",
    "output_neuron=numpy.dot(layer_outputs,numpy.array(weights2).T)+bias2\n",
    "print(\"Output neuron is : \")\n",
    "print(output_neuron)"
   ]
  },
  {
   "cell_type": "code",
   "execution_count": null,
   "id": "4298b57f-420c-4ca2-990c-7e18853af660",
   "metadata": {},
   "outputs": [],
   "source": []
  }
 ],
 "metadata": {
  "kernelspec": {
   "display_name": "Python 3 (ipykernel)",
   "language": "python",
   "name": "python3"
  },
  "language_info": {
   "codemirror_mode": {
    "name": "ipython",
    "version": 3
   },
   "file_extension": ".py",
   "mimetype": "text/x-python",
   "name": "python",
   "nbconvert_exporter": "python",
   "pygments_lexer": "ipython3",
   "version": "3.12.1"
  }
 },
 "nbformat": 4,
 "nbformat_minor": 5
}
