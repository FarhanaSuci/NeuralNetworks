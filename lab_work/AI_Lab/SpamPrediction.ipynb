{
 "cells": [
  {
   "cell_type": "code",
   "execution_count": null,
   "id": "ea571c6a-b2cb-4954-aeee-ab78d977c714",
   "metadata": {},
   "outputs": [],
   "source": [
    "pip uninstall matplotlib"
   ]
  },
  {
   "cell_type": "code",
   "execution_count": null,
   "id": "8d8cad2c-2643-497f-bce6-c3f2c6408bf0",
   "metadata": {},
   "outputs": [],
   "source": [
    "pip install matplotlib==3.7.3"
   ]
  },
  {
   "cell_type": "code",
   "execution_count": null,
   "id": "ed68a47f-476f-4890-bace-09f3492878bf",
   "metadata": {},
   "outputs": [],
   "source": [
    "import numpy as np\n",
    "import pandas as pd"
   ]
  },
  {
   "cell_type": "code",
   "execution_count": null,
   "id": "c9478faf-b459-4d94-b092-375bb43a2264",
   "metadata": {},
   "outputs": [],
   "source": [
    "df = pd.read_csv('spam.csv')"
   ]
  },
  {
   "cell_type": "code",
   "execution_count": null,
   "id": "3d0b6bab-5fb2-4105-91e3-08c2c9d27b97",
   "metadata": {},
   "outputs": [],
   "source": [
    "df.sample(5)"
   ]
  },
  {
   "cell_type": "code",
   "execution_count": null,
   "id": "54a5e490-c2ec-4905-96f8-bd05fba8e94a",
   "metadata": {},
   "outputs": [],
   "source": [
    "df.shape"
   ]
  },
  {
   "cell_type": "code",
   "execution_count": null,
   "id": "d362171b-7e5d-49bc-ad70-e971034d3d28",
   "metadata": {},
   "outputs": [],
   "source": [
    "# 1. Data cleaning\n",
    "# 2. EDA\n",
    "# 3. Text Preprocessing\n",
    "# 4. Model building\n",
    "# 5. Evaluation\n",
    "# 6. Improvement\n",
    "# 7. Website\n",
    "# 8. Deploy"
   ]
  },
  {
   "cell_type": "markdown",
   "id": "98b1dadd-78e0-4e75-b29d-74efb715e0c5",
   "metadata": {},
   "source": [
    "1. Data Cleaning¶"
   ]
  },
  {
   "cell_type": "code",
   "execution_count": null,
   "id": "66f3d109-a78d-4dc1-b411-1c55d47acb96",
   "metadata": {},
   "outputs": [],
   "source": [
    "df.info()"
   ]
  },
  {
   "cell_type": "code",
   "execution_count": null,
   "id": "ddf5e145-cb35-4153-a99e-014d21e5151d",
   "metadata": {},
   "outputs": [],
   "source": [
    "# drop last 3 cols\n",
    "df.drop(columns=['Unnamed: 2','Unnamed: 3','Unnamed: 4'],inplace=True)"
   ]
  },
  {
   "cell_type": "code",
   "execution_count": null,
   "id": "ac6a2dff-2ab5-46f9-adf3-bc0b3b72f74c",
   "metadata": {},
   "outputs": [],
   "source": [
    "df.sample(5)"
   ]
  },
  {
   "cell_type": "code",
   "execution_count": null,
   "id": "bddad1bc-15a8-47ca-95b0-d85de38d149f",
   "metadata": {},
   "outputs": [],
   "source": [
    "# renaming the cols\n",
    "df.rename(columns={'v1':'target','v2':'text'},inplace=True)\n",
    "df.sample(5)"
   ]
  },
  {
   "cell_type": "code",
   "execution_count": null,
   "id": "60d65f75-ea5e-44d8-b42f-9c2821741b82",
   "metadata": {},
   "outputs": [],
   "source": [
    "from sklearn.preprocessing import LabelEncoder\n",
    "encoder = LabelEncoder()"
   ]
  },
  {
   "cell_type": "code",
   "execution_count": null,
   "id": "ed315f3c-6ba2-4bb4-bce2-07afb6688461",
   "metadata": {},
   "outputs": [],
   "source": [
    "df['target'] = encoder.fit_transform(df['target'])"
   ]
  },
  {
   "cell_type": "code",
   "execution_count": null,
   "id": "2b45eaa7-d51f-4e70-be4d-31e01729ee52",
   "metadata": {},
   "outputs": [],
   "source": [
    "df.head()"
   ]
  },
  {
   "cell_type": "code",
   "execution_count": null,
   "id": "57e34303-7aa6-40c7-b553-ef00e6d2ab71",
   "metadata": {},
   "outputs": [],
   "source": [
    "# missing values\n",
    "df.isnull().sum()"
   ]
  },
  {
   "cell_type": "code",
   "execution_count": null,
   "id": "c10ca619-8943-4d1f-872f-8d09c74d3b5c",
   "metadata": {},
   "outputs": [],
   "source": [
    "# check for duplicate values\n",
    "df.duplicated().sum()"
   ]
  },
  {
   "cell_type": "code",
   "execution_count": null,
   "id": "876189c1-d3d1-448d-aa4f-677db9158f0b",
   "metadata": {},
   "outputs": [],
   "source": [
    "# remove duplicates\n",
    "df = df.drop_duplicates(keep='first')"
   ]
  },
  {
   "cell_type": "code",
   "execution_count": null,
   "id": "13c2643d-3d1a-44a4-bea2-82f1682fd7c9",
   "metadata": {},
   "outputs": [],
   "source": [
    "df.duplicated().sum()"
   ]
  },
  {
   "cell_type": "code",
   "execution_count": null,
   "id": "f34b16d0-c3f9-410d-9998-450e1decb1ec",
   "metadata": {},
   "outputs": [],
   "source": [
    "df.shape"
   ]
  },
  {
   "cell_type": "markdown",
   "id": "4bd43818-ab70-44bf-b8df-9cc68b4d040c",
   "metadata": {},
   "source": [
    "'2.EDA'"
   ]
  },
  {
   "cell_type": "code",
   "execution_count": null,
   "id": "d47eeec5-e70d-4c46-9bd0-0d0299d3d8a1",
   "metadata": {},
   "outputs": [],
   "source": [
    "df.head()"
   ]
  },
  {
   "cell_type": "code",
   "execution_count": null,
   "id": "9b497ed7-4f48-4ded-8b2a-c54347044a57",
   "metadata": {},
   "outputs": [],
   "source": [
    "df['target'].value_counts()"
   ]
  },
  {
   "cell_type": "code",
   "execution_count": null,
   "id": "cc7a3086-1583-4292-96b1-08d229743adf",
   "metadata": {},
   "outputs": [],
   "source": [
    "import matplotlib.pyplot as plt\n",
    "plt.pie(df['target'].value_counts(), labels=['ham','spam'],autopct=\"%0.2f\")\n",
    "plt.show()"
   ]
  },
  {
   "cell_type": "code",
   "execution_count": null,
   "id": "a2855b9f-24a6-4462-95ef-8d3fec986b49",
   "metadata": {},
   "outputs": [],
   "source": [
    "# Data is imbalanced"
   ]
  },
  {
   "cell_type": "code",
   "execution_count": null,
   "id": "b39ef609-8a57-4d11-a01e-727545598256",
   "metadata": {},
   "outputs": [],
   "source": [
    "import nltk"
   ]
  },
  {
   "cell_type": "code",
   "execution_count": null,
   "id": "499611f4-61bb-464b-ac2c-3210bbbd9848",
   "metadata": {},
   "outputs": [],
   "source": [
    "!pip install nltk"
   ]
  },
  {
   "cell_type": "code",
   "execution_count": null,
   "id": "d91287ce-28e4-4244-a482-342f8a4b6f80",
   "metadata": {},
   "outputs": [],
   "source": [
    "nltk.download('punkt')"
   ]
  },
  {
   "cell_type": "code",
   "execution_count": null,
   "id": "51587ea8-8f7a-4648-be59-1cca34b08483",
   "metadata": {},
   "outputs": [],
   "source": [
    "df['num_characters'] = df['text'].apply(len)"
   ]
  },
  {
   "cell_type": "code",
   "execution_count": null,
   "id": "a155d258-e4ee-447c-911b-8664f81914c8",
   "metadata": {},
   "outputs": [],
   "source": [
    "df.head()"
   ]
  },
  {
   "cell_type": "code",
   "execution_count": null,
   "id": "79de8cae-0f60-4a07-924a-d6f9ec16fd03",
   "metadata": {},
   "outputs": [],
   "source": [
    "df['num_words'] = df['text'].apply(lambda x:len(nltk.word_tokenize(x)))"
   ]
  },
  {
   "cell_type": "code",
   "execution_count": null,
   "id": "6b9b0dc4-c227-4fbd-a8cb-899c326b84dd",
   "metadata": {},
   "outputs": [],
   "source": [
    "df.head()"
   ]
  },
  {
   "cell_type": "code",
   "execution_count": null,
   "id": "26a55513-0187-4cdd-8502-42f8bebd62dc",
   "metadata": {},
   "outputs": [],
   "source": [
    "df['num_sentences'] = df['text'].apply(lambda x:len(nltk.sent_tokenize(x)))"
   ]
  },
  {
   "cell_type": "code",
   "execution_count": null,
   "id": "b18082b7-9996-4b01-9c9b-e04e1cf767fd",
   "metadata": {},
   "outputs": [],
   "source": [
    "df.head()"
   ]
  },
  {
   "cell_type": "code",
   "execution_count": null,
   "id": "298c71ec-7c8f-434d-b599-f26f23f6aad5",
   "metadata": {},
   "outputs": [],
   "source": [
    "df[['num_characters','num_words','num_sentences']].describe()"
   ]
  },
  {
   "cell_type": "code",
   "execution_count": null,
   "id": "652c5201-5c35-4659-9aa5-f6bfc31f8bea",
   "metadata": {},
   "outputs": [],
   "source": [
    "#ham\n",
    "df[df['target'] == 0][['num_characters','num_words','num_sentences']].describe()"
   ]
  },
  {
   "cell_type": "code",
   "execution_count": null,
   "id": "2a02972d-0d4d-473d-ae7c-f37f7df99e5c",
   "metadata": {},
   "outputs": [],
   "source": [
    "#spam\n",
    "df[df['target'] == 1][['num_characters','num_words','num_sentences']].describe()"
   ]
  },
  {
   "cell_type": "code",
   "execution_count": null,
   "id": "b89c5e4f-20be-473f-b22e-be3d77851da9",
   "metadata": {},
   "outputs": [],
   "source": [
    "import seaborn as sns"
   ]
  },
  {
   "cell_type": "code",
   "execution_count": null,
   "id": "6d5418bd-8aa9-4122-98e0-9c46b830e9d5",
   "metadata": {},
   "outputs": [],
   "source": [
    "import warnings\n",
    "warnings.filterwarnings(\"ignore\")"
   ]
  },
  {
   "cell_type": "code",
   "execution_count": null,
   "id": "feeb70cc-1eb3-4154-bc0b-cfb3bd01d17e",
   "metadata": {},
   "outputs": [],
   "source": [
    "plt.figure(figsize=(12,6))\n",
    "sns.histplot(df[df['target'] == 0]['num_characters'])\n",
    "sns.histplot(df[df['target'] == 1]['num_characters'],color='red')"
   ]
  },
  {
   "cell_type": "code",
   "execution_count": null,
   "id": "e14c55c3-4c74-4e27-8968-3b296740812b",
   "metadata": {},
   "outputs": [],
   "source": [
    "plt.figure(figsize=(12,6))\n",
    "sns.histplot(df[df['target'] == 0]['num_words'])\n",
    "sns.histplot(df[df['target'] == 1]['num_words'],color='red')"
   ]
  },
  {
   "cell_type": "code",
   "execution_count": null,
   "id": "5c038b23-bce0-45ee-bd46-a8d29df2e472",
   "metadata": {},
   "outputs": [],
   "source": [
    "sns.pairplot(df,hue='target')"
   ]
  },
  {
   "cell_type": "code",
   "execution_count": null,
   "id": "0b2051e4-c40f-4153-94e8-3c45a5d8eace",
   "metadata": {},
   "outputs": [],
   "source": []
  },
  {
   "cell_type": "code",
   "execution_count": null,
   "id": "792614cd-4988-443c-8c77-407b98663daa",
   "metadata": {},
   "outputs": [],
   "source": [
    "df.drop(columns=['text']).corr()"
   ]
  },
  {
   "cell_type": "code",
   "execution_count": null,
   "id": "9b59a8a5-0bde-4434-97ae-a47b9c6c8fc5",
   "metadata": {},
   "outputs": [],
   "source": []
  },
  {
   "cell_type": "code",
   "execution_count": null,
   "id": "e427e0e0-e773-423d-b6d0-fa2297f8fef2",
   "metadata": {},
   "outputs": [],
   "source": [
    "sns.heatmap(df.drop(columns=['text']).corr())"
   ]
  },
  {
   "cell_type": "markdown",
   "id": "0da14b71-4e6c-4324-9cbf-bded885f6d86",
   "metadata": {},
   "source": [
    "#3. Data Preprocessing\n",
    "#Lower case\n",
    "#Tokenization\n",
    "#Removing special characters\n",
    "#Removing stop words and punctuation\n",
    "#Stemming'"
   ]
  },
  {
   "cell_type": "code",
   "execution_count": null,
   "id": "e8aa58ce-2afd-4d12-92e9-0041b10b08d6",
   "metadata": {},
   "outputs": [],
   "source": [
    "nltk.download('stopwords')"
   ]
  },
  {
   "cell_type": "code",
   "execution_count": null,
   "id": "ed4302ec-bf44-486f-be3c-47921d2628ad",
   "metadata": {},
   "outputs": [],
   "source": [
    "import nltk\n",
    "from nltk.corpus import stopwords"
   ]
  },
  {
   "cell_type": "code",
   "execution_count": null,
   "id": "7ef1daef-7114-4182-bb50-a3cf1b1df2ac",
   "metadata": {},
   "outputs": [],
   "source": [
    "import string "
   ]
  },
  {
   "cell_type": "code",
   "execution_count": null,
   "id": "ffff7944-c37a-4b23-ad4d-0cb6dc2c2470",
   "metadata": {},
   "outputs": [],
   "source": [
    "from nltk.stem import PorterStemmer\n",
    "from nltk.tokenize import word_tokenize"
   ]
  },
  {
   "cell_type": "code",
   "execution_count": null,
   "id": "d16ed1b8-7b4e-4a0d-abe7-9f7890cd3f52",
   "metadata": {},
   "outputs": [],
   "source": [
    "ps = PorterStemmer()"
   ]
  },
  {
   "cell_type": "code",
   "execution_count": null,
   "id": "e45247ac-2b1c-4bf8-a059-ec3d405a4e41",
   "metadata": {},
   "outputs": [],
   "source": [
    "def transform_text(text):\n",
    "    text = text.lower()\n",
    "    text = nltk.word_tokenize(text)\n",
    "    \n",
    "    y = []\n",
    "    for i in text:\n",
    "        if i.isalnum():\n",
    "            y.append(i)\n",
    "    \n",
    "    text = y[:]\n",
    "    y.clear()\n",
    "    \n",
    "    for i in text:\n",
    "        if i not in stopwords.words('english') and i not in string.punctuation:\n",
    "            y.append(i)\n",
    "            \n",
    "    text = y[:]\n",
    "    y.clear()\n",
    "    \n",
    "    for i in text:\n",
    "        y.append(ps.stem(i))\n",
    "    \n",
    "            \n",
    "    return \" \".join(y)"
   ]
  },
  {
   "cell_type": "code",
   "execution_count": null,
   "id": "66847122-3d91-4b8e-9dae-ab2985c41532",
   "metadata": {},
   "outputs": [],
   "source": [
    "transform_text(\"I'm gonna be home soon and i don't want to talk about this stuff anymore tonight, k? I've cried enough today.\")"
   ]
  },
  {
   "cell_type": "code",
   "execution_count": null,
   "id": "2ba3b77c-e9d3-4feb-bd91-da49bab75d12",
   "metadata": {},
   "outputs": [],
   "source": [
    "#df['text'][10]"
   ]
  },
  {
   "cell_type": "code",
   "execution_count": null,
   "id": "cbb7bdd9-b6a9-4411-a803-528eb8a881a0",
   "metadata": {},
   "outputs": [],
   "source": [
    "df\n"
   ]
  },
  {
   "cell_type": "code",
   "execution_count": null,
   "id": "c5a7b4f8-008f-4417-bd87-67aae54c8d40",
   "metadata": {},
   "outputs": [],
   "source": [
    "df['text'][10]"
   ]
  },
  {
   "cell_type": "code",
   "execution_count": null,
   "id": "3b524128-0c49-4635-8436-eec736872ab4",
   "metadata": {},
   "outputs": [],
   "source": [
    "from nltk.stem.porter import PorterStemmer\n",
    "ps = PorterStemmer()\n",
    "#stem means root form\n",
    "ps.stem('eating')"
   ]
  },
  {
   "cell_type": "code",
   "execution_count": null,
   "id": "0375158d-a745-43e3-a50b-0397169603cf",
   "metadata": {},
   "outputs": [],
   "source": [
    "df['transformed_text'] = df['text'].apply(transform_text)"
   ]
  },
  {
   "cell_type": "code",
   "execution_count": null,
   "id": "d065ea71-37e8-4765-8982-ab385b3f030b",
   "metadata": {},
   "outputs": [],
   "source": [
    "df.head()"
   ]
  },
  {
   "cell_type": "code",
   "execution_count": null,
   "id": "4f403fda-3007-4891-a56e-26155f49eb1b",
   "metadata": {},
   "outputs": [],
   "source": [
    "pip install wordcloud"
   ]
  },
  {
   "cell_type": "code",
   "execution_count": null,
   "id": "4a5f4803-fca6-47ca-a898-efb97a127ea1",
   "metadata": {},
   "outputs": [],
   "source": [
    "from wordcloud import WordCloud\n",
    "wc = WordCloud(width=500,height=500,min_font_size=10,background_color='white')"
   ]
  },
  {
   "cell_type": "code",
   "execution_count": null,
   "id": "33347571-be92-41e5-8f7e-be3daa966cca",
   "metadata": {},
   "outputs": [],
   "source": [
    "spam_wc = wc.generate(df[df['target'] == 1]['transformed_text'].str.cat(sep=\" \"))"
   ]
  },
  {
   "cell_type": "code",
   "execution_count": null,
   "id": "75db6c9d-23f2-4347-89a8-da048c5db77a",
   "metadata": {},
   "outputs": [],
   "source": [
    "plt.figure(figsize=(15,6))\n",
    "plt.imshow(spam_wc)"
   ]
  },
  {
   "cell_type": "code",
   "execution_count": null,
   "id": "87312d1f-d4cc-4529-8cf5-0f82cad09d74",
   "metadata": {},
   "outputs": [],
   "source": [
    "ham_wc = wc.generate(df[df['target'] == 0]['transformed_text'].str.cat(sep=\" \"))"
   ]
  },
  {
   "cell_type": "code",
   "execution_count": null,
   "id": "4d456de2-b6d9-4ba5-83d6-d9b6ed577c27",
   "metadata": {},
   "outputs": [],
   "source": [
    "plt.figure(figsize=(15,6))\n",
    "plt.imshow(ham_wc)"
   ]
  },
  {
   "cell_type": "code",
   "execution_count": null,
   "id": "fec3cfd6-e352-49b2-918b-134ede55d4d3",
   "metadata": {},
   "outputs": [],
   "source": [
    "df.head()"
   ]
  },
  {
   "cell_type": "code",
   "execution_count": null,
   "id": "2c1e2935-6922-4dbb-97f8-1dd1deec3f7f",
   "metadata": {},
   "outputs": [],
   "source": [
    "spam_corpus = []\n",
    "for msg in df[df['target'] == 1]['transformed_text'].tolist():\n",
    "    for word in msg.split():\n",
    "        spam_corpus.append(word)\n",
    "        "
   ]
  },
  {
   "cell_type": "code",
   "execution_count": null,
   "id": "87a47304-eda6-4d6f-8046-dc9b912ef63f",
   "metadata": {},
   "outputs": [],
   "source": [
    "spam_corpus"
   ]
  },
  {
   "cell_type": "code",
   "execution_count": null,
   "id": "51750a65-a439-4d70-90dc-f40bc055535a",
   "metadata": {},
   "outputs": [],
   "source": [
    "len(spam_corpus)"
   ]
  },
  {
   "cell_type": "code",
   "execution_count": null,
   "id": "2148480b-da15-4ed4-a294-9a8a6f24e7a2",
   "metadata": {},
   "outputs": [],
   "source": [
    "from collections import Counter\n",
    "Counter(spam_corpus).most_common(30)"
   ]
  },
  {
   "cell_type": "code",
   "execution_count": null,
   "id": "2919affc-2bde-47f2-8696-c5a76afda4c6",
   "metadata": {},
   "outputs": [],
   "source": [
    "pd.DataFrame(Counter(spam_corpus).most_common(30))"
   ]
  },
  {
   "cell_type": "code",
   "execution_count": null,
   "id": "19e1d185-e3a6-4a2b-9e13-a24a0c164e76",
   "metadata": {},
   "outputs": [],
   "source": []
  },
  {
   "cell_type": "code",
   "execution_count": null,
   "id": "2b7323df-1fd1-43fc-aa3e-5ace460ac6c7",
   "metadata": {},
   "outputs": [],
   "source": [
    "sns.barplot(x=pd.DataFrame(Counter(spam_corpus).most_common(30))[0], y=pd.DataFrame(Counter(spam_corpus).most_common(30))[1], alpha=0.8)\n",
    "plt.xticks(rotation='vertical')\n",
    "plt.show()"
   ]
  },
  {
   "cell_type": "code",
   "execution_count": null,
   "id": "556b3824-c6d5-4bee-a059-385ecdbfa71a",
   "metadata": {},
   "outputs": [],
   "source": [
    "ham_corpus = []\n",
    "for msg in df[df['target'] == 0]['transformed_text'].tolist():\n",
    "    for word in msg.split():\n",
    "        ham_corpus.append(word)"
   ]
  },
  {
   "cell_type": "code",
   "execution_count": null,
   "id": "ae5a4219-77b3-4160-ae4e-00fb039d4396",
   "metadata": {},
   "outputs": [],
   "source": [
    "len(ham_corpus)"
   ]
  },
  {
   "cell_type": "code",
   "execution_count": null,
   "id": "e771be81-5c41-45c6-b503-7417eb9aff8e",
   "metadata": {},
   "outputs": [],
   "source": [
    "from collections import Counter\n",
    "sns.barplot(x=pd.DataFrame(Counter(ham_corpus).most_common(30))[0],y=pd.DataFrame(Counter(ham_corpus).most_common(30))[1])\n",
    "plt.xticks(rotation='vertical')\n",
    "plt.show()"
   ]
  },
  {
   "cell_type": "code",
   "execution_count": null,
   "id": "a487865f-2ebc-4f87-addc-0d96fe38693b",
   "metadata": {},
   "outputs": [],
   "source": []
  },
  {
   "cell_type": "markdown",
   "id": "7a6dde97-25ee-4d09-93c1-f9fedfcbf1a8",
   "metadata": {},
   "source": [
    "''4.Model Building'''"
   ]
  },
  {
   "cell_type": "code",
   "execution_count": null,
   "id": "c1d552f5-a828-462b-829a-7b5283534337",
   "metadata": {},
   "outputs": [],
   "source": []
  }
 ],
 "metadata": {
  "kernelspec": {
   "display_name": "Python 3 (ipykernel)",
   "language": "python",
   "name": "python3"
  },
  "language_info": {
   "codemirror_mode": {
    "name": "ipython",
    "version": 3
   },
   "file_extension": ".py",
   "mimetype": "text/x-python",
   "name": "python",
   "nbconvert_exporter": "python",
   "pygments_lexer": "ipython3",
   "version": "3.12.1"
  }
 },
 "nbformat": 4,
 "nbformat_minor": 5
}
