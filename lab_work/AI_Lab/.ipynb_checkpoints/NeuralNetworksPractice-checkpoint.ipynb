{
 "cells": [
  {
   "cell_type": "code",
   "execution_count": 2,
   "id": "5e270f23-a0b0-4fe4-87bc-30fc5f1d63ff",
   "metadata": {},
   "outputs": [
    {
     "name": "stdout",
     "output_type": "stream",
     "text": [
      "4.8\n"
     ]
    }
   ],
   "source": [
    "#Example:1\n",
    "inputs=[1.0,2.0,3.0,2.5]\n",
    "weights=[0.2,0.8,-0.5,1.0]\n",
    "bias=2\n",
    "output=(inputs[0]*weights[0]+inputs[1]*weights[1]+inputs[2]*weights[2]+inputs[3]*weights[3]+bias)\n",
    "print(output)"
   ]
  },
  {
   "cell_type": "code",
   "execution_count": 5,
   "id": "9b8de308-5e08-4cc5-af70-3f40cbfe7178",
   "metadata": {},
   "outputs": [
    {
     "name": "stdout",
     "output_type": "stream",
     "text": [
      "4.8\n"
     ]
    }
   ],
   "source": [
    "#Example:1\n",
    "inputs=[1.0,2.0,3.0,2.5]\n",
    "#Single output neuron\n",
    "weights=[0.2,0.8,-0.5,1.0]\n",
    "bias=2\n",
    "output=(inputs[0]*weights[0]+inputs[1]*weights[1]+inputs[2]*weights[2]+inputs[3]*weights[3]+bias)\n",
    "print(output)"
   ]
  },
  {
   "cell_type": "code",
   "execution_count": 7,
   "id": "534f4f64-d9da-4ba3-b12e-c5174469a702",
   "metadata": {},
   "outputs": [
    {
     "name": "stdout",
     "output_type": "stream",
     "text": [
      "[4.8, 1.21, 2.385]\n"
     ]
    }
   ],
   "source": [
    "#4 input neuron and 3 output neuron those are fully connected\n",
    "#Example2\n",
    "inputs=[1,2,3,2.5]\n",
    "weights1=[0.2,0.8,-0.5,1]\n",
    "weights2=[0.5,-0.91,0.26,-0.5]\n",
    "weights3=[-0.26,-0.27,0.17,0.87]\n",
    "bias1=2\n",
    "bias2=3\n",
    "bias3=0.5\n",
    "outputs=[\n",
    "    #Neuron1:\n",
    "    inputs[0]*weights1[0]+inputs[1]*weights1[1]+inputs[2]*weights1[2]+inputs[3]*weights1[3]+bias1,\n",
    "    #Neuron2:\n",
    "    inputs[0]*weights2[0]+inputs[1]*weights2[1]+inputs[2]*weights2[2]+inputs[3]*weights2[3]+bias2,\n",
    "    #Neuron3\n",
    "    inputs[0]*weights3[0]+inputs[1]*weights3[1]+inputs[2]*weights3[2]+inputs[3]*weights3[3]+bias3]\n",
    "print(outputs)\n",
    "    \n"
   ]
  },
  {
   "cell_type": "code",
   "execution_count": 9,
   "id": "5abe48a4-3269-44b9-8aa6-28207325f6ee",
   "metadata": {},
   "outputs": [
    {
     "name": "stdout",
     "output_type": "stream",
     "text": [
      "4.8\n"
     ]
    }
   ],
   "source": [
    "#input neuron and 3 output neuron those are fully connected\n",
    "#Example2\n",
    "inputs=[1,2,3,2.5]\n",
    "weights1=[0.2,0.8,-0.5,1]\n",
    "weights2=[0.5,-0.91,0.26,-0.5]\n",
    "weights3=[-0.26,-0.27,0.17,0.87]\n",
    "bias=[2,3,0.5]\n",
    "outputs=[\n",
    "    #For neuron1\n",
    "    inputs[0]*weights1[0]+inputs[1]*weights1[1]+inputs[2]*weights1[2]+inputs[3]*weights1[3]+bias[0],\n",
    "    #For neuron2\n",
    "    inputs[0]*weights2[0]+inputs[1]*weights2[1]+inputs[2]*weights2[2]+inputs[3]*weights2[3]+bias[1],\n",
    "    #For neuron3\n",
    "    inputs[0]*weights3[0]+inputs[1]*weights3[1]+inputs[2]*weights3[2]+inputs[3]*weights3[3]+bias[2]]\n",
    "print(output)\n"
   ]
  },
  {
   "cell_type": "code",
   "execution_count": null,
   "id": "95b32f3e-cf81-42e1-adda-8cf8e9c81fdf",
   "metadata": {},
   "outputs": [],
   "source": []
  }
 ],
 "metadata": {
  "kernelspec": {
   "display_name": "Python 3 (ipykernel)",
   "language": "python",
   "name": "python3"
  },
  "language_info": {
   "codemirror_mode": {
    "name": "ipython",
    "version": 3
   },
   "file_extension": ".py",
   "mimetype": "text/x-python",
   "name": "python",
   "nbconvert_exporter": "python",
   "pygments_lexer": "ipython3",
   "version": "3.12.1"
  }
 },
 "nbformat": 4,
 "nbformat_minor": 5
}
